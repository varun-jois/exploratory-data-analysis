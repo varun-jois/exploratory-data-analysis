{
 "cells": [
  {
   "cell_type": "markdown",
   "metadata": {},
   "source": [
    "# Analysis of the NYC flights dataset for 2013"
   ]
  },
  {
   "cell_type": "markdown",
   "metadata": {},
   "source": [
    "In this notebook notebook, we're going to explore the NYC flights dataset and see if we can find interesting patterns.\n",
    "\n",
    "<img src='Newark.jpg'>"
   ]
  },
  {
   "cell_type": "code",
   "execution_count": 1,
   "metadata": {},
   "outputs": [],
   "source": [
    "import pandas as pd\n",
    "import numpy as np\n",
    "import matplotlib.pyplot as plt\n",
    "import datetime"
   ]
  },
  {
   "cell_type": "code",
   "execution_count": 2,
   "metadata": {},
   "outputs": [],
   "source": [
    "# Loading the data\n",
    "df = pd.read_csv('flights.csv')"
   ]
  },
  {
   "cell_type": "code",
   "execution_count": 3,
   "metadata": {},
   "outputs": [
    {
     "data": {
      "text/plain": [
       "(336776, 19)"
      ]
     },
     "execution_count": 3,
     "metadata": {},
     "output_type": "execute_result"
    }
   ],
   "source": [
    "# Get the dimensions of the dataset\n",
    "df.shape"
   ]
  },
  {
   "cell_type": "code",
   "execution_count": 4,
   "metadata": {},
   "outputs": [
    {
     "data": {
      "text/plain": [
       "Index(['year', 'month', 'day', 'dep_time', 'sched_dep_time', 'dep_delay',\n",
       "       'arr_time', 'sched_arr_time', 'arr_delay', 'carrier', 'flight',\n",
       "       'tailnum', 'origin', 'dest', 'air_time', 'distance', 'hour', 'minute',\n",
       "       'time_hour'],\n",
       "      dtype='object')"
      ]
     },
     "execution_count": 4,
     "metadata": {},
     "output_type": "execute_result"
    }
   ],
   "source": [
    "# Column names\n",
    "df.columns"
   ]
  },
  {
   "cell_type": "code",
   "execution_count": 5,
   "metadata": {},
   "outputs": [
    {
     "data": {
      "text/plain": [
       "year                int64\n",
       "month               int64\n",
       "day                 int64\n",
       "dep_time          float64\n",
       "sched_dep_time      int64\n",
       "dep_delay         float64\n",
       "arr_time          float64\n",
       "sched_arr_time      int64\n",
       "arr_delay         float64\n",
       "carrier            object\n",
       "flight              int64\n",
       "tailnum            object\n",
       "origin             object\n",
       "dest               object\n",
       "air_time          float64\n",
       "distance            int64\n",
       "hour                int64\n",
       "minute              int64\n",
       "time_hour          object\n",
       "dtype: object"
      ]
     },
     "execution_count": 5,
     "metadata": {},
     "output_type": "execute_result"
    }
   ],
   "source": [
    "# Datatypes of columns\n",
    "df.dtypes"
   ]
  },
  {
   "cell_type": "code",
   "execution_count": 6,
   "metadata": {},
   "outputs": [
    {
     "data": {
      "text/html": [
       "<div>\n",
       "<style scoped>\n",
       "    .dataframe tbody tr th:only-of-type {\n",
       "        vertical-align: middle;\n",
       "    }\n",
       "\n",
       "    .dataframe tbody tr th {\n",
       "        vertical-align: top;\n",
       "    }\n",
       "\n",
       "    .dataframe thead th {\n",
       "        text-align: right;\n",
       "    }\n",
       "</style>\n",
       "<table border=\"1\" class=\"dataframe\">\n",
       "  <thead>\n",
       "    <tr style=\"text-align: right;\">\n",
       "      <th></th>\n",
       "      <th>year</th>\n",
       "      <th>month</th>\n",
       "      <th>day</th>\n",
       "      <th>dep_time</th>\n",
       "      <th>sched_dep_time</th>\n",
       "      <th>dep_delay</th>\n",
       "      <th>arr_time</th>\n",
       "      <th>sched_arr_time</th>\n",
       "      <th>arr_delay</th>\n",
       "      <th>carrier</th>\n",
       "      <th>flight</th>\n",
       "      <th>tailnum</th>\n",
       "      <th>origin</th>\n",
       "      <th>dest</th>\n",
       "      <th>air_time</th>\n",
       "      <th>distance</th>\n",
       "      <th>hour</th>\n",
       "      <th>minute</th>\n",
       "      <th>time_hour</th>\n",
       "    </tr>\n",
       "  </thead>\n",
       "  <tbody>\n",
       "    <tr>\n",
       "      <th>0</th>\n",
       "      <td>2013</td>\n",
       "      <td>1</td>\n",
       "      <td>1</td>\n",
       "      <td>517.0</td>\n",
       "      <td>515</td>\n",
       "      <td>2.0</td>\n",
       "      <td>830.0</td>\n",
       "      <td>819</td>\n",
       "      <td>11.0</td>\n",
       "      <td>UA</td>\n",
       "      <td>1545</td>\n",
       "      <td>N14228</td>\n",
       "      <td>EWR</td>\n",
       "      <td>IAH</td>\n",
       "      <td>227.0</td>\n",
       "      <td>1400</td>\n",
       "      <td>5</td>\n",
       "      <td>15</td>\n",
       "      <td>2013-01-01 05:00:00</td>\n",
       "    </tr>\n",
       "    <tr>\n",
       "      <th>1</th>\n",
       "      <td>2013</td>\n",
       "      <td>1</td>\n",
       "      <td>1</td>\n",
       "      <td>533.0</td>\n",
       "      <td>529</td>\n",
       "      <td>4.0</td>\n",
       "      <td>850.0</td>\n",
       "      <td>830</td>\n",
       "      <td>20.0</td>\n",
       "      <td>UA</td>\n",
       "      <td>1714</td>\n",
       "      <td>N24211</td>\n",
       "      <td>LGA</td>\n",
       "      <td>IAH</td>\n",
       "      <td>227.0</td>\n",
       "      <td>1416</td>\n",
       "      <td>5</td>\n",
       "      <td>29</td>\n",
       "      <td>2013-01-01 05:00:00</td>\n",
       "    </tr>\n",
       "    <tr>\n",
       "      <th>2</th>\n",
       "      <td>2013</td>\n",
       "      <td>1</td>\n",
       "      <td>1</td>\n",
       "      <td>542.0</td>\n",
       "      <td>540</td>\n",
       "      <td>2.0</td>\n",
       "      <td>923.0</td>\n",
       "      <td>850</td>\n",
       "      <td>33.0</td>\n",
       "      <td>AA</td>\n",
       "      <td>1141</td>\n",
       "      <td>N619AA</td>\n",
       "      <td>JFK</td>\n",
       "      <td>MIA</td>\n",
       "      <td>160.0</td>\n",
       "      <td>1089</td>\n",
       "      <td>5</td>\n",
       "      <td>40</td>\n",
       "      <td>2013-01-01 05:00:00</td>\n",
       "    </tr>\n",
       "    <tr>\n",
       "      <th>3</th>\n",
       "      <td>2013</td>\n",
       "      <td>1</td>\n",
       "      <td>1</td>\n",
       "      <td>544.0</td>\n",
       "      <td>545</td>\n",
       "      <td>-1.0</td>\n",
       "      <td>1004.0</td>\n",
       "      <td>1022</td>\n",
       "      <td>-18.0</td>\n",
       "      <td>B6</td>\n",
       "      <td>725</td>\n",
       "      <td>N804JB</td>\n",
       "      <td>JFK</td>\n",
       "      <td>BQN</td>\n",
       "      <td>183.0</td>\n",
       "      <td>1576</td>\n",
       "      <td>5</td>\n",
       "      <td>45</td>\n",
       "      <td>2013-01-01 05:00:00</td>\n",
       "    </tr>\n",
       "    <tr>\n",
       "      <th>4</th>\n",
       "      <td>2013</td>\n",
       "      <td>1</td>\n",
       "      <td>1</td>\n",
       "      <td>554.0</td>\n",
       "      <td>600</td>\n",
       "      <td>-6.0</td>\n",
       "      <td>812.0</td>\n",
       "      <td>837</td>\n",
       "      <td>-25.0</td>\n",
       "      <td>DL</td>\n",
       "      <td>461</td>\n",
       "      <td>N668DN</td>\n",
       "      <td>LGA</td>\n",
       "      <td>ATL</td>\n",
       "      <td>116.0</td>\n",
       "      <td>762</td>\n",
       "      <td>6</td>\n",
       "      <td>0</td>\n",
       "      <td>2013-01-01 06:00:00</td>\n",
       "    </tr>\n",
       "  </tbody>\n",
       "</table>\n",
       "</div>"
      ],
      "text/plain": [
       "   year  month  day  dep_time  sched_dep_time  dep_delay  arr_time  \\\n",
       "0  2013      1    1     517.0             515        2.0     830.0   \n",
       "1  2013      1    1     533.0             529        4.0     850.0   \n",
       "2  2013      1    1     542.0             540        2.0     923.0   \n",
       "3  2013      1    1     544.0             545       -1.0    1004.0   \n",
       "4  2013      1    1     554.0             600       -6.0     812.0   \n",
       "\n",
       "   sched_arr_time  arr_delay carrier  flight tailnum origin dest  air_time  \\\n",
       "0             819       11.0      UA    1545  N14228    EWR  IAH     227.0   \n",
       "1             830       20.0      UA    1714  N24211    LGA  IAH     227.0   \n",
       "2             850       33.0      AA    1141  N619AA    JFK  MIA     160.0   \n",
       "3            1022      -18.0      B6     725  N804JB    JFK  BQN     183.0   \n",
       "4             837      -25.0      DL     461  N668DN    LGA  ATL     116.0   \n",
       "\n",
       "   distance  hour  minute            time_hour  \n",
       "0      1400     5      15  2013-01-01 05:00:00  \n",
       "1      1416     5      29  2013-01-01 05:00:00  \n",
       "2      1089     5      40  2013-01-01 05:00:00  \n",
       "3      1576     5      45  2013-01-01 05:00:00  \n",
       "4       762     6       0  2013-01-01 06:00:00  "
      ]
     },
     "execution_count": 6,
     "metadata": {},
     "output_type": "execute_result"
    }
   ],
   "source": [
    "# Preview of what we're working with\n",
    "df.head()"
   ]
  },
  {
   "cell_type": "code",
   "execution_count": 7,
   "metadata": {},
   "outputs": [],
   "source": [
    "# Function for creating datetime columns from time columns\n",
    "def convert_to_dt(row):\n",
    "    date = '%s%s%s' % (str(row['year']), '%02d' % row['month'], '%02d' % row['day'])\n",
    "    dep_time_dt = '%04d' % row['dep_time'] if row['dep_time'] < 2400 else '0000'\n",
    "    sched_dep_time_dt = '%04d' % row['sched_dep_time'] if row['sched_dep_time'] < 2400 else '0000'\n",
    "    arr_time_dt = '%04d' % row['arr_time'] if row['arr_time'] < 2400 else '0000'\n",
    "    sched_arr_time_dt = '%04d' % row['sched_arr_time'] if row['sched_arr_time'] < 2400 else '0000'\n",
    "    \n",
    "    dep_time_dt = datetime.datetime.strptime(date + dep_time_dt, '%Y%m%d%H%M')\n",
    "    sched_dep_time_dt = datetime.datetime.strptime(date + sched_dep_time_dt, '%Y%m%d%H%M')\n",
    "    arr_time_dt = datetime.datetime.strptime(date + arr_time_dt, '%Y%m%d%H%M')\n",
    "    sched_arr_time_dt = datetime.datetime.strptime(date + sched_arr_time_dt, '%Y%m%d%H%M')\n",
    "    \n",
    "    # Adjustment for the overnight flights\n",
    "    if dep_time_dt > arr_time_dt:\n",
    "        arr_time_dt += datetime.timedelta(days=1)\n",
    "    if sched_dep_time_dt > sched_arr_time_dt:\n",
    "        sched_arr_time_dt += datetime.timedelta(days=1)\n",
    "    return pd.Series([dep_time_dt, sched_dep_time_dt, arr_time_dt, sched_arr_time_dt])"
   ]
  },
  {
   "cell_type": "code",
   "execution_count": 8,
   "metadata": {},
   "outputs": [],
   "source": [
    "df[['dep_time_dt', 'sched_dep_time_dt', 'arr_time_dt', 'sched_arr_time_dt']] = df.apply(convert_to_dt, axis=1)"
   ]
  },
  {
   "cell_type": "code",
   "execution_count": 9,
   "metadata": {},
   "outputs": [
    {
     "data": {
      "text/html": [
       "<div>\n",
       "<style scoped>\n",
       "    .dataframe tbody tr th:only-of-type {\n",
       "        vertical-align: middle;\n",
       "    }\n",
       "\n",
       "    .dataframe tbody tr th {\n",
       "        vertical-align: top;\n",
       "    }\n",
       "\n",
       "    .dataframe thead th {\n",
       "        text-align: right;\n",
       "    }\n",
       "</style>\n",
       "<table border=\"1\" class=\"dataframe\">\n",
       "  <thead>\n",
       "    <tr style=\"text-align: right;\">\n",
       "      <th></th>\n",
       "      <th>dep_time</th>\n",
       "      <th>dep_time_dt</th>\n",
       "      <th>sched_dep_time</th>\n",
       "      <th>sched_dep_time_dt</th>\n",
       "      <th>arr_time</th>\n",
       "      <th>arr_time_dt</th>\n",
       "      <th>sched_arr_time</th>\n",
       "      <th>sched_arr_time_dt</th>\n",
       "    </tr>\n",
       "  </thead>\n",
       "  <tbody>\n",
       "    <tr>\n",
       "      <th>0</th>\n",
       "      <td>517.0</td>\n",
       "      <td>2013-01-01 05:17:00</td>\n",
       "      <td>515</td>\n",
       "      <td>2013-01-01 05:15:00</td>\n",
       "      <td>830.0</td>\n",
       "      <td>2013-01-01 08:30:00</td>\n",
       "      <td>819</td>\n",
       "      <td>2013-01-01 08:19:00</td>\n",
       "    </tr>\n",
       "    <tr>\n",
       "      <th>1</th>\n",
       "      <td>533.0</td>\n",
       "      <td>2013-01-01 05:33:00</td>\n",
       "      <td>529</td>\n",
       "      <td>2013-01-01 05:29:00</td>\n",
       "      <td>850.0</td>\n",
       "      <td>2013-01-01 08:50:00</td>\n",
       "      <td>830</td>\n",
       "      <td>2013-01-01 08:30:00</td>\n",
       "    </tr>\n",
       "    <tr>\n",
       "      <th>2</th>\n",
       "      <td>542.0</td>\n",
       "      <td>2013-01-01 05:42:00</td>\n",
       "      <td>540</td>\n",
       "      <td>2013-01-01 05:40:00</td>\n",
       "      <td>923.0</td>\n",
       "      <td>2013-01-01 09:23:00</td>\n",
       "      <td>850</td>\n",
       "      <td>2013-01-01 08:50:00</td>\n",
       "    </tr>\n",
       "    <tr>\n",
       "      <th>3</th>\n",
       "      <td>544.0</td>\n",
       "      <td>2013-01-01 05:44:00</td>\n",
       "      <td>545</td>\n",
       "      <td>2013-01-01 05:45:00</td>\n",
       "      <td>1004.0</td>\n",
       "      <td>2013-01-01 10:04:00</td>\n",
       "      <td>1022</td>\n",
       "      <td>2013-01-01 10:22:00</td>\n",
       "    </tr>\n",
       "    <tr>\n",
       "      <th>4</th>\n",
       "      <td>554.0</td>\n",
       "      <td>2013-01-01 05:54:00</td>\n",
       "      <td>600</td>\n",
       "      <td>2013-01-01 06:00:00</td>\n",
       "      <td>812.0</td>\n",
       "      <td>2013-01-01 08:12:00</td>\n",
       "      <td>837</td>\n",
       "      <td>2013-01-01 08:37:00</td>\n",
       "    </tr>\n",
       "    <tr>\n",
       "      <th>5</th>\n",
       "      <td>554.0</td>\n",
       "      <td>2013-01-01 05:54:00</td>\n",
       "      <td>558</td>\n",
       "      <td>2013-01-01 05:58:00</td>\n",
       "      <td>740.0</td>\n",
       "      <td>2013-01-01 07:40:00</td>\n",
       "      <td>728</td>\n",
       "      <td>2013-01-01 07:28:00</td>\n",
       "    </tr>\n",
       "  </tbody>\n",
       "</table>\n",
       "</div>"
      ],
      "text/plain": [
       "   dep_time         dep_time_dt  sched_dep_time   sched_dep_time_dt  arr_time  \\\n",
       "0     517.0 2013-01-01 05:17:00             515 2013-01-01 05:15:00     830.0   \n",
       "1     533.0 2013-01-01 05:33:00             529 2013-01-01 05:29:00     850.0   \n",
       "2     542.0 2013-01-01 05:42:00             540 2013-01-01 05:40:00     923.0   \n",
       "3     544.0 2013-01-01 05:44:00             545 2013-01-01 05:45:00    1004.0   \n",
       "4     554.0 2013-01-01 05:54:00             600 2013-01-01 06:00:00     812.0   \n",
       "5     554.0 2013-01-01 05:54:00             558 2013-01-01 05:58:00     740.0   \n",
       "\n",
       "          arr_time_dt  sched_arr_time   sched_arr_time_dt  \n",
       "0 2013-01-01 08:30:00             819 2013-01-01 08:19:00  \n",
       "1 2013-01-01 08:50:00             830 2013-01-01 08:30:00  \n",
       "2 2013-01-01 09:23:00             850 2013-01-01 08:50:00  \n",
       "3 2013-01-01 10:04:00            1022 2013-01-01 10:22:00  \n",
       "4 2013-01-01 08:12:00             837 2013-01-01 08:37:00  \n",
       "5 2013-01-01 07:40:00             728 2013-01-01 07:28:00  "
      ]
     },
     "execution_count": 9,
     "metadata": {},
     "output_type": "execute_result"
    }
   ],
   "source": [
    "# Visual check of the result\n",
    "df.loc[0:5, ['dep_time', 'dep_time_dt', \n",
    "             'sched_dep_time', 'sched_dep_time_dt', \n",
    "             'arr_time', 'arr_time_dt', \n",
    "             'sched_arr_time', 'sched_arr_time_dt']]"
   ]
  },
  {
   "cell_type": "code",
   "execution_count": 10,
   "metadata": {},
   "outputs": [
    {
     "data": {
      "text/html": [
       "<div>\n",
       "<style scoped>\n",
       "    .dataframe tbody tr th:only-of-type {\n",
       "        vertical-align: middle;\n",
       "    }\n",
       "\n",
       "    .dataframe tbody tr th {\n",
       "        vertical-align: top;\n",
       "    }\n",
       "\n",
       "    .dataframe thead th {\n",
       "        text-align: right;\n",
       "    }\n",
       "</style>\n",
       "<table border=\"1\" class=\"dataframe\">\n",
       "  <thead>\n",
       "    <tr style=\"text-align: right;\">\n",
       "      <th></th>\n",
       "      <th>year</th>\n",
       "      <th>month</th>\n",
       "      <th>day</th>\n",
       "      <th>dep_time</th>\n",
       "      <th>sched_dep_time</th>\n",
       "      <th>dep_delay</th>\n",
       "      <th>arr_time</th>\n",
       "      <th>sched_arr_time</th>\n",
       "      <th>arr_delay</th>\n",
       "      <th>carrier</th>\n",
       "      <th>...</th>\n",
       "      <th>dest</th>\n",
       "      <th>air_time</th>\n",
       "      <th>distance</th>\n",
       "      <th>hour</th>\n",
       "      <th>minute</th>\n",
       "      <th>time_hour</th>\n",
       "      <th>dep_time_dt</th>\n",
       "      <th>sched_dep_time_dt</th>\n",
       "      <th>arr_time_dt</th>\n",
       "      <th>sched_arr_time_dt</th>\n",
       "    </tr>\n",
       "  </thead>\n",
       "  <tbody>\n",
       "  </tbody>\n",
       "</table>\n",
       "<p>0 rows × 23 columns</p>\n",
       "</div>"
      ],
      "text/plain": [
       "Empty DataFrame\n",
       "Columns: [year, month, day, dep_time, sched_dep_time, dep_delay, arr_time, sched_arr_time, arr_delay, carrier, flight, tailnum, origin, dest, air_time, distance, hour, minute, time_hour, dep_time_dt, sched_dep_time_dt, arr_time_dt, sched_arr_time_dt]\n",
       "Index: []\n",
       "\n",
       "[0 rows x 23 columns]"
      ]
     },
     "execution_count": 10,
     "metadata": {},
     "output_type": "execute_result"
    }
   ],
   "source": [
    "# To make sure that the arrival time > departure time\n",
    "df.query('dep_time_dt > arr_time_dt')"
   ]
  },
  {
   "cell_type": "code",
   "execution_count": 11,
   "metadata": {},
   "outputs": [
    {
     "data": {
      "text/html": [
       "<div>\n",
       "<style scoped>\n",
       "    .dataframe tbody tr th:only-of-type {\n",
       "        vertical-align: middle;\n",
       "    }\n",
       "\n",
       "    .dataframe tbody tr th {\n",
       "        vertical-align: top;\n",
       "    }\n",
       "\n",
       "    .dataframe thead th {\n",
       "        text-align: right;\n",
       "    }\n",
       "</style>\n",
       "<table border=\"1\" class=\"dataframe\">\n",
       "  <thead>\n",
       "    <tr style=\"text-align: right;\">\n",
       "      <th></th>\n",
       "      <th>dep_time</th>\n",
       "      <th>dep_time_dt</th>\n",
       "      <th>sched_dep_time</th>\n",
       "      <th>sched_dep_time_dt</th>\n",
       "      <th>arr_time</th>\n",
       "      <th>arr_time_dt</th>\n",
       "      <th>sched_arr_time</th>\n",
       "      <th>sched_arr_time_dt</th>\n",
       "    </tr>\n",
       "  </thead>\n",
       "  <tbody>\n",
       "    <tr>\n",
       "      <th>834</th>\n",
       "      <td>2343.0</td>\n",
       "      <td>2013-01-01 23:43:00</td>\n",
       "      <td>1724</td>\n",
       "      <td>2013-01-01 17:24:00</td>\n",
       "      <td>314.0</td>\n",
       "      <td>2013-01-02 03:14:00</td>\n",
       "      <td>1938</td>\n",
       "      <td>2013-01-01 19:38:00</td>\n",
       "    </tr>\n",
       "    <tr>\n",
       "      <th>835</th>\n",
       "      <td>2353.0</td>\n",
       "      <td>2013-01-01 23:53:00</td>\n",
       "      <td>2359</td>\n",
       "      <td>2013-01-01 23:59:00</td>\n",
       "      <td>425.0</td>\n",
       "      <td>2013-01-02 04:25:00</td>\n",
       "      <td>445</td>\n",
       "      <td>2013-01-02 04:45:00</td>\n",
       "    </tr>\n",
       "    <tr>\n",
       "      <th>836</th>\n",
       "      <td>2353.0</td>\n",
       "      <td>2013-01-01 23:53:00</td>\n",
       "      <td>2359</td>\n",
       "      <td>2013-01-01 23:59:00</td>\n",
       "      <td>418.0</td>\n",
       "      <td>2013-01-02 04:18:00</td>\n",
       "      <td>442</td>\n",
       "      <td>2013-01-02 04:42:00</td>\n",
       "    </tr>\n",
       "    <tr>\n",
       "      <th>837</th>\n",
       "      <td>2356.0</td>\n",
       "      <td>2013-01-01 23:56:00</td>\n",
       "      <td>2359</td>\n",
       "      <td>2013-01-01 23:59:00</td>\n",
       "      <td>425.0</td>\n",
       "      <td>2013-01-02 04:25:00</td>\n",
       "      <td>437</td>\n",
       "      <td>2013-01-02 04:37:00</td>\n",
       "    </tr>\n",
       "    <tr>\n",
       "      <th>1772</th>\n",
       "      <td>2334.0</td>\n",
       "      <td>2013-01-02 23:34:00</td>\n",
       "      <td>2129</td>\n",
       "      <td>2013-01-02 21:29:00</td>\n",
       "      <td>33.0</td>\n",
       "      <td>2013-01-03 00:33:00</td>\n",
       "      <td>2242</td>\n",
       "      <td>2013-01-02 22:42:00</td>\n",
       "    </tr>\n",
       "  </tbody>\n",
       "</table>\n",
       "</div>"
      ],
      "text/plain": [
       "      dep_time         dep_time_dt  sched_dep_time   sched_dep_time_dt  \\\n",
       "834     2343.0 2013-01-01 23:43:00            1724 2013-01-01 17:24:00   \n",
       "835     2353.0 2013-01-01 23:53:00            2359 2013-01-01 23:59:00   \n",
       "836     2353.0 2013-01-01 23:53:00            2359 2013-01-01 23:59:00   \n",
       "837     2356.0 2013-01-01 23:56:00            2359 2013-01-01 23:59:00   \n",
       "1772    2334.0 2013-01-02 23:34:00            2129 2013-01-02 21:29:00   \n",
       "\n",
       "      arr_time         arr_time_dt  sched_arr_time   sched_arr_time_dt  \n",
       "834      314.0 2013-01-02 03:14:00            1938 2013-01-01 19:38:00  \n",
       "835      425.0 2013-01-02 04:25:00             445 2013-01-02 04:45:00  \n",
       "836      418.0 2013-01-02 04:18:00             442 2013-01-02 04:42:00  \n",
       "837      425.0 2013-01-02 04:25:00             437 2013-01-02 04:37:00  \n",
       "1772      33.0 2013-01-03 00:33:00            2242 2013-01-02 22:42:00  "
      ]
     },
     "execution_count": 11,
     "metadata": {},
     "output_type": "execute_result"
    }
   ],
   "source": [
    "# Visual check to see if dates are adjusted for overnight flights\n",
    "df.query('dep_time > 2330')[['dep_time', 'dep_time_dt', \n",
    "                             'sched_dep_time', 'sched_dep_time_dt', \n",
    "                             'arr_time', 'arr_time_dt', \n",
    "                             'sched_arr_time', 'sched_arr_time_dt']].head()"
   ]
  },
  {
   "cell_type": "code",
   "execution_count": 12,
   "metadata": {},
   "outputs": [
    {
     "data": {
      "text/plain": [
       "year              1.000000\n",
       "month             1.000000\n",
       "day               1.000000\n",
       "dep_time          0.975488\n",
       "sched_dep_time    1.000000\n",
       "dep_delay         0.975488\n",
       "arr_time          0.974128\n",
       "sched_arr_time    1.000000\n",
       "arr_delay         0.971999\n",
       "flight            1.000000\n",
       "air_time          0.971999\n",
       "distance          1.000000\n",
       "hour              1.000000\n",
       "minute            1.000000\n",
       "Name: count, dtype: float64"
      ]
     },
     "execution_count": 12,
     "metadata": {},
     "output_type": "execute_result"
    }
   ],
   "source": [
    "# The percentage of non null data for each column\n",
    "df.describe().loc['count'] / df.shape[0]"
   ]
  },
  {
   "cell_type": "code",
   "execution_count": 13,
   "metadata": {},
   "outputs": [
    {
     "data": {
      "text/plain": [
       "year              0.971999\n",
       "month             0.971999\n",
       "day               0.971999\n",
       "dep_time          0.971999\n",
       "sched_dep_time    0.971999\n",
       "dep_delay         0.971999\n",
       "arr_time          0.971999\n",
       "sched_arr_time    0.971999\n",
       "arr_delay         0.971999\n",
       "flight            0.971999\n",
       "air_time          0.971999\n",
       "distance          0.971999\n",
       "hour              0.971999\n",
       "minute            0.971999\n",
       "Name: count, dtype: float64"
      ]
     },
     "execution_count": 13,
     "metadata": {},
     "output_type": "execute_result"
    }
   ],
   "source": [
    "# The percentage of data that's left when considering only complete rows\n",
    "df.dropna().describe().loc['count'] / df.shape[0]"
   ]
  },
  {
   "cell_type": "markdown",
   "metadata": {},
   "source": [
    "Since less than 3% of the data is lost when considering only complete rows we do not consider imputation techniques for missing data."
   ]
  },
  {
   "cell_type": "code",
   "execution_count": 14,
   "metadata": {},
   "outputs": [],
   "source": [
    "# Keeping only complete records\n",
    "dfc = df.dropna()"
   ]
  },
  {
   "cell_type": "code",
   "execution_count": 17,
   "metadata": {},
   "outputs": [
    {
     "data": {
      "text/html": [
       "<div>\n",
       "<style scoped>\n",
       "    .dataframe tbody tr th:only-of-type {\n",
       "        vertical-align: middle;\n",
       "    }\n",
       "\n",
       "    .dataframe tbody tr th {\n",
       "        vertical-align: top;\n",
       "    }\n",
       "\n",
       "    .dataframe thead th {\n",
       "        text-align: right;\n",
       "    }\n",
       "</style>\n",
       "<table border=\"1\" class=\"dataframe\">\n",
       "  <thead>\n",
       "    <tr style=\"text-align: right;\">\n",
       "      <th></th>\n",
       "      <th>flight</th>\n",
       "      <th>carrier</th>\n",
       "      <th>origin</th>\n",
       "      <th>dest</th>\n",
       "    </tr>\n",
       "  </thead>\n",
       "  <tbody>\n",
       "    <tr>\n",
       "      <th>379</th>\n",
       "      <td>15</td>\n",
       "      <td>UA</td>\n",
       "      <td>EWR</td>\n",
       "      <td>HNL</td>\n",
       "    </tr>\n",
       "    <tr>\n",
       "      <th>590</th>\n",
       "      <td>15</td>\n",
       "      <td>B6</td>\n",
       "      <td>JFK</td>\n",
       "      <td>FLL</td>\n",
       "    </tr>\n",
       "    <tr>\n",
       "      <th>27109</th>\n",
       "      <td>15</td>\n",
       "      <td>AS</td>\n",
       "      <td>EWR</td>\n",
       "      <td>SEA</td>\n",
       "    </tr>\n",
       "    <tr>\n",
       "      <th>27232</th>\n",
       "      <td>15</td>\n",
       "      <td>B6</td>\n",
       "      <td>JFK</td>\n",
       "      <td>SFO</td>\n",
       "    </tr>\n",
       "    <tr>\n",
       "      <th>224929</th>\n",
       "      <td>15</td>\n",
       "      <td>US</td>\n",
       "      <td>JFK</td>\n",
       "      <td>PHX</td>\n",
       "    </tr>\n",
       "  </tbody>\n",
       "</table>\n",
       "</div>"
      ],
      "text/plain": [
       "        flight carrier origin dest\n",
       "379         15      UA    EWR  HNL\n",
       "590         15      B6    JFK  FLL\n",
       "27109       15      AS    EWR  SEA\n",
       "27232       15      B6    JFK  SFO\n",
       "224929      15      US    JFK  PHX"
      ]
     },
     "execution_count": 17,
     "metadata": {},
     "output_type": "execute_result"
    }
   ],
   "source": [
    "# Finding out the most frequent flight\n",
    "busiest_flight = dfc.groupby('flight')['day'].count().idxmax()\n",
    "dfc.loc[dfc['flight'] == busiest_flight, ['flight', 'carrier', 'origin', 'dest']].drop_duplicates()"
   ]
  },
  {
   "cell_type": "markdown",
   "metadata": {},
   "source": [
    "It appears that the flights do not correspond to a particular route. "
   ]
  },
  {
   "cell_type": "code",
   "execution_count": 18,
   "metadata": {},
   "outputs": [
    {
     "data": {
      "text/plain": [
       "org_dep\n",
       "JFK_LAX    11159\n",
       "LGA_ATL    10041\n",
       "LGA_ORD     8507\n",
       "JFK_SFO     8109\n",
       "LGA_CLT     5961\n",
       "Name: day, dtype: int64"
      ]
     },
     "execution_count": 18,
     "metadata": {},
     "output_type": "execute_result"
    }
   ],
   "source": [
    "# Finding out the most frequent flight (take 2)\n",
    "dfc.assign(\n",
    "    org_dep=dfc['origin']+'_'+dfc['dest']).groupby('org_dep')['day'].count().sort_values(ascending=False).head()"
   ]
  },
  {
   "cell_type": "code",
   "execution_count": 19,
   "metadata": {},
   "outputs": [
    {
     "data": {
      "image/png": "[encoded data removed]",
      "text/plain": [
       "<matplotlib.figure.Figure at 0x7f8d1f19a080>"
      ]
     },
     "metadata": {},
     "output_type": "display_data"
    }
   ],
   "source": [
    "# Percentage of all flights delayed by month\n",
    "dfc.assign(delayed=dfc['dep_delay'] > 0).groupby(dfc['dep_time_dt'].dt.month).apply(\n",
    "    lambda x: x['delayed'].sum()/len(x) * 100).plot.bar(rot=45)\n",
    "plt.title('% of Flights Delayed by Month')\n",
    "plt.xlabel('Month')\n",
    "plt.ylabel('% of Flights Delayed')\n",
    "plt.show()"
   ]
  },
  {
   "cell_type": "code",
   "execution_count": 20,
   "metadata": {},
   "outputs": [
    {
     "data": {
      "image/png": "[encoded data removed]",
      "text/plain": [
       "<matplotlib.figure.Figure at 0x7f8d1fc85a90>"
      ]
     },
     "metadata": {},
     "output_type": "display_data"
    }
   ],
   "source": [
    "# Percentage of all flights delayed by hour\n",
    "dfc.assign(delayed=dfc['dep_delay'] > 0).groupby(dfc['dep_time_dt'].dt.hour).apply(\n",
    "    lambda x: x['delayed'].sum()/len(x) * 100).plot.bar(rot=45)\n",
    "plt.title('% of Flights Delayed by Hour of Day')\n",
    "plt.xlabel('Hour of Day')\n",
    "plt.ylabel('% of Flights Delayed')\n",
    "plt.show()"
   ]
  },
  {
   "cell_type": "code",
   "execution_count": null,
   "metadata": {},
   "outputs": [],
   "source": []
  }
 ],
 "metadata": {
  "kernelspec": {
   "display_name": "Python 3",
   "language": "python",
   "name": "python3"
  },
  "language_info": {
   "codemirror_mode": {
    "name": "ipython",
    "version": 3
   },
   "file_extension": ".py",
   "mimetype": "text/x-python",
   "name": "python",
   "nbconvert_exporter": "python",
   "pygments_lexer": "ipython3",
   "version": "3.6.4"
  }
 },
 "nbformat": 4,
 "nbformat_minor": 2
}
